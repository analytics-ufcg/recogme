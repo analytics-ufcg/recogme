{
 "cells": [
  {
   "cell_type": "code",
   "execution_count": 1,
   "metadata": {
    "collapsed": false
   },
   "outputs": [],
   "source": [
    "import pandas as pd\n",
    "from numpy  import array\n",
    "import numpy as np\n"
   ]
  },
  {
   "cell_type": "code",
   "execution_count": 2,
   "metadata": {
    "collapsed": true
   },
   "outputs": [],
   "source": [
    "def calculate_SS(kts):\n",
    "    SS = []\n",
    "    for i in range(len(kts)-1):\n",
    "        SS.append(kts[i+1]-kts[i])\n",
    "    \n",
    "    SS.append(0)\n",
    "    return pd.DataFrame(data=np.asarray(SS).transpose(), columns=['SS'])"
   ]
  },
  {
   "cell_type": "code",
   "execution_count": 3,
   "metadata": {
    "collapsed": true
   },
   "outputs": [],
   "source": [
    "def calculate_SP(kts,ktp):\n",
    "    SP = []\n",
    "    for i in range(len(kts)-2):\n",
    "        SP.append(ktp[i+1]-kts[i])\n",
    "    \n",
    "    SP.append(0)\n",
    "\n",
    "    return np.asarray(SP).transpose()"
   ]
  },
  {
   "cell_type": "code",
   "execution_count": 4,
   "metadata": {
    "collapsed": true
   },
   "outputs": [],
   "source": [
    "def calculate_PP(ktp):\n",
    "    PP = []\n",
    "    for i in range(len(ktp)-1):\n",
    "        PP.append(ktp[i+1]-ktp[i])\n",
    "\n",
    "    PP.append(0)\n",
    "    return pd.DataFrame(data=np.asarray(PP).transpose(), columns=['PP'])    "
   ]
  },
  {
   "cell_type": "code",
   "execution_count": 5,
   "metadata": {
    "collapsed": true
   },
   "outputs": [],
   "source": [
    "def normalize_time(attempt):\n",
    "    start_time_email = min(attempt.loc[attempt['source'] == 'email','keyDown'])\n",
    "    start_time_password = min(attempt.loc[attempt['source'] == 'password','keyDown'])\n",
    "    start_time_text = min(attempt.loc[attempt['source'] == 'userText','keyDown'])\n",
    "    \n",
    "    attempt.loc[attempt['source'] == 'email','keyDown']  = attempt['keyDown'].apply(lambda x: x-start_time_email)\n",
    "    attempt.loc[attempt['source'] == 'password','keyDown']  = attempt['keyDown'].apply(lambda x: x-start_time_password)\n",
    "    attempt.loc[attempt['source'] == 'userText','keyDown']  = attempt['keyDown'].apply(lambda x: x-start_time_text)\n",
    "    \n",
    "    attempt.loc[attempt['source'] == 'email','keyUp']  = attempt['keyUp'].apply(lambda x: x-start_time_email)\n",
    "    attempt.loc[attempt['source'] == 'password','keyUp']  = attempt['keyUp'].apply(lambda x: x-start_time_password)\n",
    "    attempt.loc[attempt['source'] == 'userText','keyUp']  = attempt['keyUp'].apply(lambda x: x-start_time_text)\n",
    "    \n",
    "    return attempt"
   ]
  },
  {
   "cell_type": "code",
   "execution_count": 6,
   "metadata": {
    "collapsed": true
   },
   "outputs": [],
   "source": [
    "def prepare_attempt(attempt0):\n",
    "    attempt0.is_copy = False\n",
    "\n",
    "    attempt0 = normalize_time(attempt0)\n",
    "    ktp = attempt0['keyDown']\n",
    "    kts = attempt0['keyUp']\n",
    "    SP = calculate_SP(kts,ktp)\n",
    "    SS = calculate_SS(kts)\n",
    "    PP = calculate_PP(ktp)\n",
    "\n",
    "\n",
    "    attempt0['SP'] =SP\n",
    "    attempt0['SS'] =SS\n",
    "    attempt0['PP'] =PP\n",
    "    return attempt0"
   ]
  },
  {
   "cell_type": "code",
   "execution_count": 7,
   "metadata": {
    "collapsed": true
   },
   "outputs": [],
   "source": [
    "user_login  = pd.read_csv(\"data/userLogin-0.1.psv\", sep=\"\\t\")"
   ]
  },
  {
   "cell_type": "code",
   "execution_count": 8,
   "metadata": {
    "collapsed": false
   },
   "outputs": [],
   "source": [
    "del user_login[\"attempt_time\"]\n"
   ]
  },
  {
   "cell_type": "code",
   "execution_count": 9,
   "metadata": {
    "collapsed": false
   },
   "outputs": [],
   "source": [
    "user_login['PS']  = user_login['keyUp']-user_login['keyDown']"
   ]
  },
  {
   "cell_type": "code",
   "execution_count": 10,
   "metadata": {
    "collapsed": false
   },
   "outputs": [],
   "source": [
    "user_1 = user_login[user_login['email']=='ricooliveira@gmail.com']"
   ]
  },
  {
   "cell_type": "code",
   "execution_count": 11,
   "metadata": {
    "collapsed": false
   },
   "outputs": [],
   "source": [
    "user1_tentativas = [user_1[user_1['attempt_id']==i] for  i in pd.unique(user_1['attempt_id'])]\n"
   ]
  },
  {
   "cell_type": "code",
   "execution_count": 12,
   "metadata": {
    "collapsed": false
   },
   "outputs": [
    {
     "ename": "KeyError",
     "evalue": "1",
     "output_type": "error",
     "traceback": [
      "\u001b[1;31m---------------------------------------------------------------------------\u001b[0m",
      "\u001b[1;31mKeyError\u001b[0m                                  Traceback (most recent call last)",
      "\u001b[1;32m<ipython-input-12-efecbf6d74fd>\u001b[0m in \u001b[0;36m<module>\u001b[1;34m()\u001b[0m\n\u001b[0;32m      2\u001b[0m \u001b[1;31m#     attempt0 = prepare_attempt(i)\u001b[0m\u001b[1;33m\u001b[0m\u001b[1;33m\u001b[0m\u001b[0m\n\u001b[0;32m      3\u001b[0m     \u001b[0mi\u001b[0m\u001b[1;33m\u001b[0m\u001b[0m\n\u001b[1;32m----> 4\u001b[1;33m \u001b[0mprepare_attempt\u001b[0m\u001b[1;33m(\u001b[0m\u001b[0mi\u001b[0m\u001b[1;33m)\u001b[0m\u001b[1;33m\u001b[0m\u001b[0m\n\u001b[0m",
      "\u001b[1;32m<ipython-input-6-a2981ce13ed3>\u001b[0m in \u001b[0;36mprepare_attempt\u001b[1;34m(attempt0)\u001b[0m\n\u001b[0;32m      5\u001b[0m     \u001b[0mktp\u001b[0m \u001b[1;33m=\u001b[0m \u001b[0mattempt0\u001b[0m\u001b[1;33m[\u001b[0m\u001b[1;34m'keyDown'\u001b[0m\u001b[1;33m]\u001b[0m\u001b[1;33m\u001b[0m\u001b[0m\n\u001b[0;32m      6\u001b[0m     \u001b[0mkts\u001b[0m \u001b[1;33m=\u001b[0m \u001b[0mattempt0\u001b[0m\u001b[1;33m[\u001b[0m\u001b[1;34m'keyUp'\u001b[0m\u001b[1;33m]\u001b[0m\u001b[1;33m\u001b[0m\u001b[0m\n\u001b[1;32m----> 7\u001b[1;33m     \u001b[0mSP\u001b[0m \u001b[1;33m=\u001b[0m \u001b[0mcalculate_SP\u001b[0m\u001b[1;33m(\u001b[0m\u001b[0mkts\u001b[0m\u001b[1;33m,\u001b[0m\u001b[0mktp\u001b[0m\u001b[1;33m)\u001b[0m\u001b[1;33m\u001b[0m\u001b[0m\n\u001b[0m\u001b[0;32m      8\u001b[0m     \u001b[0mSS\u001b[0m \u001b[1;33m=\u001b[0m \u001b[0mcalculate_SS\u001b[0m\u001b[1;33m(\u001b[0m\u001b[0mkts\u001b[0m\u001b[1;33m)\u001b[0m\u001b[1;33m\u001b[0m\u001b[0m\n\u001b[0;32m      9\u001b[0m     \u001b[0mPP\u001b[0m \u001b[1;33m=\u001b[0m \u001b[0mcalculate_PP\u001b[0m\u001b[1;33m(\u001b[0m\u001b[0mktp\u001b[0m\u001b[1;33m)\u001b[0m\u001b[1;33m\u001b[0m\u001b[0m\n",
      "\u001b[1;32m<ipython-input-3-692a194b4060>\u001b[0m in \u001b[0;36mcalculate_SP\u001b[1;34m(kts, ktp)\u001b[0m\n\u001b[0;32m      2\u001b[0m     \u001b[0mSP\u001b[0m \u001b[1;33m=\u001b[0m \u001b[1;33m[\u001b[0m\u001b[1;33m]\u001b[0m\u001b[1;33m\u001b[0m\u001b[0m\n\u001b[0;32m      3\u001b[0m     \u001b[1;32mfor\u001b[0m \u001b[0mi\u001b[0m \u001b[1;32min\u001b[0m \u001b[0mrange\u001b[0m\u001b[1;33m(\u001b[0m\u001b[0mlen\u001b[0m\u001b[1;33m(\u001b[0m\u001b[0mkts\u001b[0m\u001b[1;33m)\u001b[0m\u001b[1;33m-\u001b[0m\u001b[1;36m2\u001b[0m\u001b[1;33m)\u001b[0m\u001b[1;33m:\u001b[0m\u001b[1;33m\u001b[0m\u001b[0m\n\u001b[1;32m----> 4\u001b[1;33m         \u001b[0mSP\u001b[0m\u001b[1;33m.\u001b[0m\u001b[0mappend\u001b[0m\u001b[1;33m(\u001b[0m\u001b[0mktp\u001b[0m\u001b[1;33m[\u001b[0m\u001b[0mi\u001b[0m\u001b[1;33m+\u001b[0m\u001b[1;36m1\u001b[0m\u001b[1;33m]\u001b[0m\u001b[1;33m-\u001b[0m\u001b[0mkts\u001b[0m\u001b[1;33m[\u001b[0m\u001b[0mi\u001b[0m\u001b[1;33m]\u001b[0m\u001b[1;33m)\u001b[0m\u001b[1;33m\u001b[0m\u001b[0m\n\u001b[0m\u001b[0;32m      5\u001b[0m \u001b[1;33m\u001b[0m\u001b[0m\n\u001b[0;32m      6\u001b[0m     \u001b[0mSP\u001b[0m\u001b[1;33m.\u001b[0m\u001b[0mappend\u001b[0m\u001b[1;33m(\u001b[0m\u001b[1;36m0\u001b[0m\u001b[1;33m)\u001b[0m\u001b[1;33m\u001b[0m\u001b[0m\n",
      "\u001b[1;32m/home/leonardo/Tools/Django_Env/lib/python3.4/site-packages/pandas/core/series.py\u001b[0m in \u001b[0;36m__getitem__\u001b[1;34m(self, key)\u001b[0m\n\u001b[0;32m    555\u001b[0m     \u001b[1;32mdef\u001b[0m \u001b[0m__getitem__\u001b[0m\u001b[1;33m(\u001b[0m\u001b[0mself\u001b[0m\u001b[1;33m,\u001b[0m \u001b[0mkey\u001b[0m\u001b[1;33m)\u001b[0m\u001b[1;33m:\u001b[0m\u001b[1;33m\u001b[0m\u001b[0m\n\u001b[0;32m    556\u001b[0m         \u001b[1;32mtry\u001b[0m\u001b[1;33m:\u001b[0m\u001b[1;33m\u001b[0m\u001b[0m\n\u001b[1;32m--> 557\u001b[1;33m             \u001b[0mresult\u001b[0m \u001b[1;33m=\u001b[0m \u001b[0mself\u001b[0m\u001b[1;33m.\u001b[0m\u001b[0mindex\u001b[0m\u001b[1;33m.\u001b[0m\u001b[0mget_value\u001b[0m\u001b[1;33m(\u001b[0m\u001b[0mself\u001b[0m\u001b[1;33m,\u001b[0m \u001b[0mkey\u001b[0m\u001b[1;33m)\u001b[0m\u001b[1;33m\u001b[0m\u001b[0m\n\u001b[0m\u001b[0;32m    558\u001b[0m \u001b[1;33m\u001b[0m\u001b[0m\n\u001b[0;32m    559\u001b[0m             \u001b[1;32mif\u001b[0m \u001b[1;32mnot\u001b[0m \u001b[0mnp\u001b[0m\u001b[1;33m.\u001b[0m\u001b[0misscalar\u001b[0m\u001b[1;33m(\u001b[0m\u001b[0mresult\u001b[0m\u001b[1;33m)\u001b[0m\u001b[1;33m:\u001b[0m\u001b[1;33m\u001b[0m\u001b[0m\n",
      "\u001b[1;32m/home/leonardo/Tools/Django_Env/lib/python3.4/site-packages/pandas/core/index.py\u001b[0m in \u001b[0;36mget_value\u001b[1;34m(self, series, key)\u001b[0m\n\u001b[0;32m   1788\u001b[0m \u001b[1;33m\u001b[0m\u001b[0m\n\u001b[0;32m   1789\u001b[0m         \u001b[1;32mtry\u001b[0m\u001b[1;33m:\u001b[0m\u001b[1;33m\u001b[0m\u001b[0m\n\u001b[1;32m-> 1790\u001b[1;33m             \u001b[1;32mreturn\u001b[0m \u001b[0mself\u001b[0m\u001b[1;33m.\u001b[0m\u001b[0m_engine\u001b[0m\u001b[1;33m.\u001b[0m\u001b[0mget_value\u001b[0m\u001b[1;33m(\u001b[0m\u001b[0ms\u001b[0m\u001b[1;33m,\u001b[0m \u001b[0mk\u001b[0m\u001b[1;33m)\u001b[0m\u001b[1;33m\u001b[0m\u001b[0m\n\u001b[0m\u001b[0;32m   1791\u001b[0m         \u001b[1;32mexcept\u001b[0m \u001b[0mKeyError\u001b[0m \u001b[1;32mas\u001b[0m \u001b[0me1\u001b[0m\u001b[1;33m:\u001b[0m\u001b[1;33m\u001b[0m\u001b[0m\n\u001b[0;32m   1792\u001b[0m             \u001b[1;32mif\u001b[0m \u001b[0mlen\u001b[0m\u001b[1;33m(\u001b[0m\u001b[0mself\u001b[0m\u001b[1;33m)\u001b[0m \u001b[1;33m>\u001b[0m \u001b[1;36m0\u001b[0m \u001b[1;32mand\u001b[0m \u001b[0mself\u001b[0m\u001b[1;33m.\u001b[0m\u001b[0minferred_type\u001b[0m \u001b[1;32min\u001b[0m \u001b[1;33m[\u001b[0m\u001b[1;34m'integer'\u001b[0m\u001b[1;33m,\u001b[0m\u001b[1;34m'boolean'\u001b[0m\u001b[1;33m]\u001b[0m\u001b[1;33m:\u001b[0m\u001b[1;33m\u001b[0m\u001b[0m\n",
      "\u001b[1;32mpandas/index.pyx\u001b[0m in \u001b[0;36mpandas.index.IndexEngine.get_value (pandas/index.c:3204)\u001b[1;34m()\u001b[0m\n",
      "\u001b[1;32mpandas/index.pyx\u001b[0m in \u001b[0;36mpandas.index.IndexEngine.get_value (pandas/index.c:2903)\u001b[1;34m()\u001b[0m\n",
      "\u001b[1;32mpandas/index.pyx\u001b[0m in \u001b[0;36mpandas.index.IndexEngine.get_loc (pandas/index.c:3843)\u001b[1;34m()\u001b[0m\n",
      "\u001b[1;32mpandas/hashtable.pyx\u001b[0m in \u001b[0;36mpandas.hashtable.Int64HashTable.get_item (pandas/hashtable.c:6525)\u001b[1;34m()\u001b[0m\n",
      "\u001b[1;32mpandas/hashtable.pyx\u001b[0m in \u001b[0;36mpandas.hashtable.Int64HashTable.get_item (pandas/hashtable.c:6463)\u001b[1;34m()\u001b[0m\n",
      "\u001b[1;31mKeyError\u001b[0m: 1"
     ]
    }
   ],
   "source": [
    "for i in user1_tentativas:\n",
    "#     attempt0 = prepare_attempt(i)\n",
    "    i\n",
    "prepare_attempt(i)\n"
   ]
  },
  {
   "cell_type": "code",
   "execution_count": 30,
   "metadata": {
    "collapsed": false
   },
   "outputs": [
    {
     "data": {
      "text/plain": [
       "[100,\n",
       " 100,\n",
       " 100,\n",
       " 100,\n",
       " 100,\n",
       " 100,\n",
       " 100,\n",
       " 100,\n",
       " 100,\n",
       " 100,\n",
       " 100,\n",
       " 100,\n",
       " 100,\n",
       " 100,\n",
       " 100,\n",
       " 100,\n",
       " 100,\n",
       " 100,\n",
       " 100,\n",
       " 100,\n",
       " 100,\n",
       " 100,\n",
       " 100]"
      ]
     },
     "execution_count": 30,
     "metadata": {},
     "output_type": "execute_result"
    }
   ],
   "source": [
    "[100 for  i in range(len( attempt0_email['keyDown']))]"
   ]
  },
  {
   "cell_type": "code",
   "execution_count": 26,
   "metadata": {
    "collapsed": false
   },
   "outputs": [
    {
     "data": {
      "text/plain": [
       "[]"
      ]
     },
     "execution_count": 26,
     "metadata": {},
     "output_type": "execute_result"
    }
   ],
   "source": [
    "a= []\n",
    "a[1:3]\n",
    "a"
   ]
  },
  {
   "cell_type": "code",
   "execution_count": 72,
   "metadata": {
    "collapsed": false
   },
   "outputs": [
    {
     "ename": "KeyError",
     "evalue": "130",
     "output_type": "error",
     "traceback": [
      "\u001b[1;31m---------------------------------------------------------------------------\u001b[0m",
      "\u001b[1;31mKeyError\u001b[0m                                  Traceback (most recent call last)",
      "\u001b[1;32m<ipython-input-72-f6678c8e4673>\u001b[0m in \u001b[0;36m<module>\u001b[1;34m()\u001b[0m\n\u001b[1;32m----> 1\u001b[1;33m \u001b[0muser_login_email\u001b[0m\u001b[1;33m[\u001b[0m\u001b[1;34m'attempt_id'\u001b[0m\u001b[1;33m]\u001b[0m\u001b[1;33m[\u001b[0m\u001b[1;36m130\u001b[0m\u001b[1;33m]\u001b[0m\u001b[1;33m\u001b[0m\u001b[0m\n\u001b[0m",
      "\u001b[1;32m/home/leonardo/Tools/anaconda3/lib/python3.4/site-packages/pandas/core/series.py\u001b[0m in \u001b[0;36m__getitem__\u001b[1;34m(self, key)\u001b[0m\n\u001b[0;32m    519\u001b[0m     \u001b[1;32mdef\u001b[0m \u001b[0m__getitem__\u001b[0m\u001b[1;33m(\u001b[0m\u001b[0mself\u001b[0m\u001b[1;33m,\u001b[0m \u001b[0mkey\u001b[0m\u001b[1;33m)\u001b[0m\u001b[1;33m:\u001b[0m\u001b[1;33m\u001b[0m\u001b[0m\n\u001b[0;32m    520\u001b[0m         \u001b[1;32mtry\u001b[0m\u001b[1;33m:\u001b[0m\u001b[1;33m\u001b[0m\u001b[0m\n\u001b[1;32m--> 521\u001b[1;33m             \u001b[0mresult\u001b[0m \u001b[1;33m=\u001b[0m \u001b[0mself\u001b[0m\u001b[1;33m.\u001b[0m\u001b[0mindex\u001b[0m\u001b[1;33m.\u001b[0m\u001b[0mget_value\u001b[0m\u001b[1;33m(\u001b[0m\u001b[0mself\u001b[0m\u001b[1;33m,\u001b[0m \u001b[0mkey\u001b[0m\u001b[1;33m)\u001b[0m\u001b[1;33m\u001b[0m\u001b[0m\n\u001b[0m\u001b[0;32m    522\u001b[0m \u001b[1;33m\u001b[0m\u001b[0m\n\u001b[0;32m    523\u001b[0m             \u001b[1;32mif\u001b[0m \u001b[1;32mnot\u001b[0m \u001b[0mnp\u001b[0m\u001b[1;33m.\u001b[0m\u001b[0misscalar\u001b[0m\u001b[1;33m(\u001b[0m\u001b[0mresult\u001b[0m\u001b[1;33m)\u001b[0m\u001b[1;33m:\u001b[0m\u001b[1;33m\u001b[0m\u001b[0m\n",
      "\u001b[1;32m/home/leonardo/Tools/anaconda3/lib/python3.4/site-packages/pandas/core/index.py\u001b[0m in \u001b[0;36mget_value\u001b[1;34m(self, series, key)\u001b[0m\n\u001b[0;32m   1593\u001b[0m \u001b[1;33m\u001b[0m\u001b[0m\n\u001b[0;32m   1594\u001b[0m         \u001b[1;32mtry\u001b[0m\u001b[1;33m:\u001b[0m\u001b[1;33m\u001b[0m\u001b[0m\n\u001b[1;32m-> 1595\u001b[1;33m             \u001b[1;32mreturn\u001b[0m \u001b[0mself\u001b[0m\u001b[1;33m.\u001b[0m\u001b[0m_engine\u001b[0m\u001b[1;33m.\u001b[0m\u001b[0mget_value\u001b[0m\u001b[1;33m(\u001b[0m\u001b[0ms\u001b[0m\u001b[1;33m,\u001b[0m \u001b[0mk\u001b[0m\u001b[1;33m)\u001b[0m\u001b[1;33m\u001b[0m\u001b[0m\n\u001b[0m\u001b[0;32m   1596\u001b[0m         \u001b[1;32mexcept\u001b[0m \u001b[0mKeyError\u001b[0m \u001b[1;32mas\u001b[0m \u001b[0me1\u001b[0m\u001b[1;33m:\u001b[0m\u001b[1;33m\u001b[0m\u001b[0m\n\u001b[0;32m   1597\u001b[0m             \u001b[1;32mif\u001b[0m \u001b[0mlen\u001b[0m\u001b[1;33m(\u001b[0m\u001b[0mself\u001b[0m\u001b[1;33m)\u001b[0m \u001b[1;33m>\u001b[0m \u001b[1;36m0\u001b[0m \u001b[1;32mand\u001b[0m \u001b[0mself\u001b[0m\u001b[1;33m.\u001b[0m\u001b[0minferred_type\u001b[0m \u001b[1;32min\u001b[0m \u001b[1;33m[\u001b[0m\u001b[1;34m'integer'\u001b[0m\u001b[1;33m,\u001b[0m\u001b[1;34m'boolean'\u001b[0m\u001b[1;33m]\u001b[0m\u001b[1;33m:\u001b[0m\u001b[1;33m\u001b[0m\u001b[0m\n",
      "\u001b[1;32mpandas/index.pyx\u001b[0m in \u001b[0;36mpandas.index.IndexEngine.get_value (pandas/index.c:3113)\u001b[1;34m()\u001b[0m\n",
      "\u001b[1;32mpandas/index.pyx\u001b[0m in \u001b[0;36mpandas.index.IndexEngine.get_value (pandas/index.c:2844)\u001b[1;34m()\u001b[0m\n",
      "\u001b[1;32mpandas/index.pyx\u001b[0m in \u001b[0;36mpandas.index.IndexEngine.get_loc (pandas/index.c:3704)\u001b[1;34m()\u001b[0m\n",
      "\u001b[1;32mpandas/hashtable.pyx\u001b[0m in \u001b[0;36mpandas.hashtable.Int64HashTable.get_item (pandas/hashtable.c:7224)\u001b[1;34m()\u001b[0m\n",
      "\u001b[1;32mpandas/hashtable.pyx\u001b[0m in \u001b[0;36mpandas.hashtable.Int64HashTable.get_item (pandas/hashtable.c:7162)\u001b[1;34m()\u001b[0m\n",
      "\u001b[1;31mKeyError\u001b[0m: 130"
     ]
    }
   ],
   "source": []
  },
  {
   "cell_type": "code",
   "execution_count": 50,
   "metadata": {
    "collapsed": false
   },
   "outputs": [],
   "source": []
  },
  {
   "cell_type": "code",
   "execution_count": 51,
   "metadata": {
    "collapsed": false
   },
   "outputs": [
    {
     "data": {
      "text/plain": [
       "0             25789616\n",
       "1             25789780\n",
       "2             25789891\n",
       "3             25790030\n",
       "4             25790177\n",
       "5             25790350\n",
       "6             25791576\n",
       "7             25791749\n",
       "8             25791841\n",
       "9             25791967\n",
       "10            25792064\n",
       "11            25792148\n",
       "12            25792578\n",
       "13            25792369\n",
       "14            25792918\n",
       "15            25793069\n",
       "16            25793196\n",
       "17            25793332\n",
       "18            25793537\n",
       "19            25793729\n",
       "20            25793856\n",
       "21            25794024\n",
       "22            25794122\n",
       "86            25818124\n",
       "87            25818282\n",
       "88            25818394\n",
       "89            25818524\n",
       "90            25818661\n",
       "91            25818873\n",
       "92            25819044\n",
       "             ...      \n",
       "15197        580482075\n",
       "15266    1446127317289\n",
       "15267    1446127317385\n",
       "15268    1446127317508\n",
       "15269    1446127317644\n",
       "15270    1446127317709\n",
       "15271    1446127317827\n",
       "15272    1446127317947\n",
       "15273    1446127318080\n",
       "15274    1446127318396\n",
       "15275    1446127318483\n",
       "15276    1446127318586\n",
       "15277    1446127318681\n",
       "15278    1446127318811\n",
       "15279    1446127318900\n",
       "15280    1446127319101\n",
       "15281    1446127319060\n",
       "15282    1446127319276\n",
       "15283    1446127319395\n",
       "15284    1446127319684\n",
       "15285    1446127319604\n",
       "15286    1446127320316\n",
       "15287    1446127320475\n",
       "15288    1446127320588\n",
       "15289    1446127320685\n",
       "15290    1446127320852\n",
       "15291    1446127321027\n",
       "15292    1446127321123\n",
       "15293    1446127321228\n",
       "15294    1446127321419\n",
       "Name: keyDown, dtype: int64"
      ]
     },
     "execution_count": 51,
     "metadata": {},
     "output_type": "execute_result"
    }
   ],
   "source": []
  },
  {
   "cell_type": "code",
   "execution_count": 38,
   "metadata": {
    "collapsed": true
   },
   "outputs": [
    {
     "data": {
      "text/plain": [
       "<bound method DataFrame.asfreq of        attempt_id                         email         attempt_time  \\\n",
       "0               1        ricooliveira@gmail.com  2015-10-28 18:44:05   \n",
       "1               1        ricooliveira@gmail.com  2015-10-28 18:44:05   \n",
       "2               1        ricooliveira@gmail.com  2015-10-28 18:44:05   \n",
       "3               1        ricooliveira@gmail.com  2015-10-28 18:44:05   \n",
       "4               1        ricooliveira@gmail.com  2015-10-28 18:44:05   \n",
       "5               1        ricooliveira@gmail.com  2015-10-28 18:44:05   \n",
       "6               1        ricooliveira@gmail.com  2015-10-28 18:44:05   \n",
       "7               1        ricooliveira@gmail.com  2015-10-28 18:44:05   \n",
       "8               1        ricooliveira@gmail.com  2015-10-28 18:44:05   \n",
       "9               1        ricooliveira@gmail.com  2015-10-28 18:44:05   \n",
       "10              1        ricooliveira@gmail.com  2015-10-28 18:44:05   \n",
       "11              1        ricooliveira@gmail.com  2015-10-28 18:44:05   \n",
       "12              1        ricooliveira@gmail.com  2015-10-28 18:44:05   \n",
       "13              1        ricooliveira@gmail.com  2015-10-28 18:44:05   \n",
       "14              1        ricooliveira@gmail.com  2015-10-28 18:44:05   \n",
       "15              1        ricooliveira@gmail.com  2015-10-28 18:44:05   \n",
       "16              1        ricooliveira@gmail.com  2015-10-28 18:44:05   \n",
       "17              1        ricooliveira@gmail.com  2015-10-28 18:44:05   \n",
       "18              1        ricooliveira@gmail.com  2015-10-28 18:44:05   \n",
       "19              1        ricooliveira@gmail.com  2015-10-28 18:44:05   \n",
       "20              1        ricooliveira@gmail.com  2015-10-28 18:44:05   \n",
       "21              1        ricooliveira@gmail.com  2015-10-28 18:44:05   \n",
       "22              1        ricooliveira@gmail.com  2015-10-28 18:44:05   \n",
       "86              2        ricooliveira@gmail.com  2015-10-28 18:44:34   \n",
       "87              2        ricooliveira@gmail.com  2015-10-28 18:44:34   \n",
       "88              2        ricooliveira@gmail.com  2015-10-28 18:44:34   \n",
       "89              2        ricooliveira@gmail.com  2015-10-28 18:44:34   \n",
       "90              2        ricooliveira@gmail.com  2015-10-28 18:44:34   \n",
       "91              2        ricooliveira@gmail.com  2015-10-28 18:44:34   \n",
       "92              2        ricooliveira@gmail.com  2015-10-28 18:44:34   \n",
       "...           ...                           ...                  ...   \n",
       "15197         161      gustavonobrega@gmail.com  2015-10-29 13:59:50   \n",
       "15266         162  fellype.cavalcante@gmail.com  2015-10-29 14:00:12   \n",
       "15267         162  fellype.cavalcante@gmail.com  2015-10-29 14:00:12   \n",
       "15268         162  fellype.cavalcante@gmail.com  2015-10-29 14:00:12   \n",
       "15269         162  fellype.cavalcante@gmail.com  2015-10-29 14:00:12   \n",
       "15270         162  fellype.cavalcante@gmail.com  2015-10-29 14:00:12   \n",
       "15271         162  fellype.cavalcante@gmail.com  2015-10-29 14:00:12   \n",
       "15272         162  fellype.cavalcante@gmail.com  2015-10-29 14:00:12   \n",
       "15273         162  fellype.cavalcante@gmail.com  2015-10-29 14:00:12   \n",
       "15274         162  fellype.cavalcante@gmail.com  2015-10-29 14:00:12   \n",
       "15275         162  fellype.cavalcante@gmail.com  2015-10-29 14:00:12   \n",
       "15276         162  fellype.cavalcante@gmail.com  2015-10-29 14:00:12   \n",
       "15277         162  fellype.cavalcante@gmail.com  2015-10-29 14:00:12   \n",
       "15278         162  fellype.cavalcante@gmail.com  2015-10-29 14:00:12   \n",
       "15279         162  fellype.cavalcante@gmail.com  2015-10-29 14:00:12   \n",
       "15280         162  fellype.cavalcante@gmail.com  2015-10-29 14:00:12   \n",
       "15281         162  fellype.cavalcante@gmail.com  2015-10-29 14:00:12   \n",
       "15282         162  fellype.cavalcante@gmail.com  2015-10-29 14:00:12   \n",
       "15283         162  fellype.cavalcante@gmail.com  2015-10-29 14:00:12   \n",
       "15284         162  fellype.cavalcante@gmail.com  2015-10-29 14:00:12   \n",
       "15285         162  fellype.cavalcante@gmail.com  2015-10-29 14:00:12   \n",
       "15286         162  fellype.cavalcante@gmail.com  2015-10-29 14:00:12   \n",
       "15287         162  fellype.cavalcante@gmail.com  2015-10-29 14:00:12   \n",
       "15288         162  fellype.cavalcante@gmail.com  2015-10-29 14:00:12   \n",
       "15289         162  fellype.cavalcante@gmail.com  2015-10-29 14:00:12   \n",
       "15290         162  fellype.cavalcante@gmail.com  2015-10-29 14:00:12   \n",
       "15291         162  fellype.cavalcante@gmail.com  2015-10-29 14:00:12   \n",
       "15292         162  fellype.cavalcante@gmail.com  2015-10-29 14:00:12   \n",
       "15293         162  fellype.cavalcante@gmail.com  2015-10-29 14:00:12   \n",
       "15294         162  fellype.cavalcante@gmail.com  2015-10-29 14:00:12   \n",
       "\n",
       "             keyDown          keyUp keyValue  keyCode   PS  \n",
       "0           25789616       25789710        R       82   94  \n",
       "1           25789780       25789855        I       73   75  \n",
       "2           25789891       25790022        C       67  131  \n",
       "3           25790030       25790098        O       79   68  \n",
       "4           25790177       25790234        O       79   57  \n",
       "5           25790350       25790459        L       76  109  \n",
       "6           25791576       25791650        I       73   74  \n",
       "7           25791749       25791894        V       86  145  \n",
       "8           25791841       25791942        E       69  101  \n",
       "9           25791967       25792035        I       73   68  \n",
       "10          25792064       25792168        R       82  104  \n",
       "11          25792148       25792260        A       65  112  \n",
       "12          25792578       25792714        2       50  136  \n",
       "13          25792369       25792761    Shift       16  392  \n",
       "14          25792918       25793014        G       71   96  \n",
       "15          25793069       25793140        M       77   71  \n",
       "16          25793196       25793315        A       65  119  \n",
       "17          25793332       25793389        I       73   57  \n",
       "18          25793537       25793611        L       76   74  \n",
       "19          25793729       25793819       .>      190   90  \n",
       "20          25793856       25793982        C       67  126  \n",
       "21          25794024       25794175        O       79  151  \n",
       "22          25794122       25794202        M       77   80  \n",
       "86          25818124       25818206        R       82   82  \n",
       "87          25818282       25818353        I       73   71  \n",
       "88          25818394       25818512        C       67  118  \n",
       "89          25818524       25818586        O       79   62  \n",
       "90          25818661       25818744        O       79   83  \n",
       "91          25818873       25818983        L       76  110  \n",
       "92          25819044       25819110        I       73   66  \n",
       "...              ...            ...      ...      ...  ...  \n",
       "15197      580482075      580482158        M       77   83  \n",
       "15266  1446127317289  1446127317441        F       70  152  \n",
       "15267  1446127317385  1446127317497        E       69  112  \n",
       "15268  1446127317508  1446127317555        L       76   47  \n",
       "15269  1446127317644  1446127317708        L       76   64  \n",
       "15270  1446127317709  1446127317771        Y       89   62  \n",
       "15271  1446127317827  1446127317890        P       80   63  \n",
       "15272  1446127317947  1446127318016        E       69   69  \n",
       "15273  1446127318080  1446127318144       .>      190   64  \n",
       "15274  1446127318396  1446127318451        C       67   55  \n",
       "15275  1446127318483  1446127318562        A       65   79  \n",
       "15276  1446127318586  1446127318641        V       86   55  \n",
       "15277  1446127318681  1446127318787        A       65  106  \n",
       "15278  1446127318811  1446127318875        L       76   64  \n",
       "15279  1446127318900  1446127318970        C       67   70  \n",
       "15280  1446127319101  1446127319172        N       78   71  \n",
       "15281  1446127319060  1446127319173        A       65  113  \n",
       "15282  1446127319276  1446127319338        T       84   62  \n",
       "15283  1446127319395  1446127319474        E       69   79  \n",
       "15284  1446127319684  1446127319739        2       50   55  \n",
       "15285  1446127319604  1446127319795    Shift       16  191  \n",
       "15286  1446127320316  1446127320379        G       71   63  \n",
       "15287  1446127320475  1446127320539        M       77   64  \n",
       "15288  1446127320588  1446127320685        A       65   97  \n",
       "15289  1446127320685  1446127320747        I       73   62  \n",
       "15290  1446127320852  1446127320930        L       76   78  \n",
       "15291  1446127321027  1446127321099       .>      190   72  \n",
       "15292  1446127321123  1446127321195        C       67   72  \n",
       "15293  1446127321228  1446127321299        O       79   71  \n",
       "15294  1446127321419  1446127321482        M       77   63  \n",
       "\n",
       "[4387 rows x 8 columns]>"
      ]
     },
     "execution_count": 38,
     "metadata": {},
     "output_type": "execute_result"
    }
   ],
   "source": [
    "user_login_email.asfreq"
   ]
  }
 ],
 "metadata": {
  "kernelspec": {
   "display_name": "Python 3",
   "language": "python",
   "name": "python3"
  },
  "language_info": {
   "codemirror_mode": {
    "name": "ipython",
    "version": 3
   },
   "file_extension": ".py",
   "mimetype": "text/x-python",
   "name": "python",
   "nbconvert_exporter": "python",
   "pygments_lexer": "ipython3",
   "version": "3.4.3"
  }
 },
 "nbformat": 4,
 "nbformat_minor": 0
}
